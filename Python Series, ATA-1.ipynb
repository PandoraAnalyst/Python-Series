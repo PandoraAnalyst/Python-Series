{
 "cells": [
  {
   "cell_type": "markdown",
   "id": "3ebcf752-a31c-4b70-a71a-2caed8c7bada",
   "metadata": {},
   "source": [
    "# Python Series, ATA-1."
   ]
  },
  {
   "cell_type": "markdown",
   "id": "30ef4e5e-a418-4136-a5e4-67a5dc07514e",
   "metadata": {},
   "source": [
    "## 1. Variables in Python"
   ]
  },
  {
   "cell_type": "code",
   "execution_count": 6,
   "id": "c369c3ef-4014-4118-b3bd-2517398b5da9",
   "metadata": {},
   "outputs": [
    {
     "name": "stdout",
     "output_type": "stream",
     "text": [
      "22\n"
     ]
    }
   ],
   "source": [
    "x=22\n",
    "print(x)"
   ]
  },
  {
   "cell_type": "code",
   "execution_count": 8,
   "id": "5ecba3db-89fb-42c6-8726-7525a4cb9734",
   "metadata": {},
   "outputs": [
    {
     "data": {
      "text/plain": [
       "int"
      ]
     },
     "execution_count": 8,
     "metadata": {},
     "output_type": "execute_result"
    }
   ],
   "source": [
    "## checking the data type of a variable\n",
    "type(x)"
   ]
  },
  {
   "cell_type": "code",
   "execution_count": 16,
   "id": "30114030-13d3-47dc-bbae-d6919a1d4f63",
   "metadata": {},
   "outputs": [
    {
     "name": "stdout",
     "output_type": "stream",
     "text": [
      "Cholate\n",
      "Vanilla\n",
      "Rocky Road\n"
     ]
    }
   ],
   "source": [
    "## Assigning multiple values to multiple variables\n",
    "x,y,z = 'Cholate', 'Vanilla', 'Rocky Road'\n",
    "print(x)\n",
    "print(y)\n",
    "print(z)"
   ]
  },
  {
   "cell_type": "code",
   "execution_count": 18,
   "id": "84ac93e2-2fa2-4c2d-820c-c7b713abd2c1",
   "metadata": {},
   "outputs": [
    {
     "name": "stdout",
     "output_type": "stream",
     "text": [
      "Hot Chocolate\n",
      "Hot Chocolate\n",
      "Hot Chocolate\n"
     ]
    }
   ],
   "source": [
    "## Assigning one value multiple variables\n",
    "x = y = z = 'Hot Chocolate'\n",
    "print(x)\n",
    "print(y)\n",
    "print(z)"
   ]
  },
  {
   "cell_type": "code",
   "execution_count": 20,
   "id": "bd6da19d-6565-4759-a0dd-39edb90d033c",
   "metadata": {},
   "outputs": [
    {
     "name": "stdout",
     "output_type": "stream",
     "text": [
      "Cholate\n",
      "Vanilla\n",
      "Rocky Road\n"
     ]
    }
   ],
   "source": [
    "## Assigning a list to a variable\n",
    "ice_cream = ['Cholate', 'Vanilla', 'Rocky Road']  \n",
    "\n",
    "## We can also assign multiple varibles to list, or to the values in a list. \n",
    "## In this case, the values inside the list should be equal to the number of the variables we are assigning\n",
    "\n",
    "x,y,z = ice_cream\n",
    "print(x)\n",
    "print(y)\n",
    "print(z)"
   ]
  },
  {
   "cell_type": "code",
   "execution_count": 28,
   "id": "48cdf37c-7ab2-472a-ae00-8dc8eb1c3e0e",
   "metadata": {},
   "outputs": [
    {
     "name": "stdout",
     "output_type": "stream",
     "text": [
      "Ice cream is my favorite\n"
     ]
    }
   ],
   "source": [
    "## Outputing multiple string variables in the print statement, using '+'\n",
    "x = 'Ice cream'\n",
    "y = ' is my'\n",
    "z = ' favorite'\n",
    "print(x+y+z)"
   ]
  },
  {
   "cell_type": "code",
   "execution_count": 26,
   "id": "e6e25235-18ed-4bcf-83be-41e86c68e9c9",
   "metadata": {},
   "outputs": [
    {
     "name": "stdout",
     "output_type": "stream",
     "text": [
      "7\n"
     ]
    }
   ],
   "source": [
    "## Outputing multiple int variables in the print statement, using '+'\n",
    "x = 2\n",
    "y = 4\n",
    "z = 1\n",
    "print(x+y+z)"
   ]
  },
  {
   "cell_type": "code",
   "execution_count": null,
   "id": "6a7daf6d-97be-41f6-9896-3f801250c4de",
   "metadata": {},
   "outputs": [],
   "source": []
  },
  {
   "cell_type": "markdown",
   "id": "eec27af1-4ca7-496b-8c0a-58e3d4e97612",
   "metadata": {},
   "source": [
    "## 2. Data Types in Python"
   ]
  },
  {
   "cell_type": "markdown",
   "id": "12b27721-29b5-4f03-ae4a-b4bc74c565f1",
   "metadata": {},
   "source": [
    "#### List data type"
   ]
  },
  {
   "cell_type": "code",
   "execution_count": 37,
   "id": "0498e32b-33ab-4e3b-9666-28e80142e07a",
   "metadata": {},
   "outputs": [
    {
     "data": {
      "text/plain": [
       "['Cholate', 'Vanilla', 'Rocky Road', 'Caramel']"
      ]
     },
     "execution_count": 37,
     "metadata": {},
     "output_type": "execute_result"
    }
   ],
   "source": [
    "## Adding extra data to a list using 'append'\n",
    "ice_cream = ['Cholate', 'Vanilla', 'Rocky Road']  \n",
    "ice_cream.append('Caramel')\n",
    "ice_cream"
   ]
  },
  {
   "cell_type": "code",
   "execution_count": 39,
   "id": "2e5fc607-550c-4ed1-baf9-047d06bfb87b",
   "metadata": {},
   "outputs": [
    {
     "data": {
      "text/plain": [
       "['Butter Pecan', 'Vanilla', 'Rocky Road', 'Caramel']"
      ]
     },
     "execution_count": 39,
     "metadata": {},
     "output_type": "execute_result"
    }
   ],
   "source": [
    "## Accessing and changing the data stored in a particular index of a list\n",
    "ice_cream[0] = 'Butter Pecan'\n",
    "ice_cream"
   ]
  },
  {
   "cell_type": "code",
   "execution_count": 41,
   "id": "2e5a5531-8766-46e8-bad5-92563b52cdc5",
   "metadata": {},
   "outputs": [],
   "source": [
    "## Creating a nested list with diff data types\n",
    "nested_list = ['Vanilla', 3, ['Scoops', 'Spoon'], True]"
   ]
  },
  {
   "cell_type": "code",
   "execution_count": 45,
   "id": "06ea48a9-ac37-441a-a94d-97338bb706f8",
   "metadata": {},
   "outputs": [
    {
     "data": {
      "text/plain": [
       "['Scoops', 'Spoon']"
      ]
     },
     "execution_count": 45,
     "metadata": {},
     "output_type": "execute_result"
    }
   ],
   "source": [
    "## Accessing a list \n",
    "nested_list[2]"
   ]
  },
  {
   "cell_type": "code",
   "execution_count": 47,
   "id": "58637dae-ef44-4ac6-ba57-80407ef23552",
   "metadata": {},
   "outputs": [
    {
     "data": {
      "text/plain": [
       "'Spoon'"
      ]
     },
     "execution_count": 47,
     "metadata": {},
     "output_type": "execute_result"
    }
   ],
   "source": [
    "## Accessing the index of a list in a list\n",
    "nested_list[2][1]"
   ]
  },
  {
   "cell_type": "markdown",
   "id": "789d1248-1d40-4af5-8e9a-c472deee439b",
   "metadata": {},
   "source": [
    "#### Tuples data type\n",
    "A list and a tuple are quite similar, the only diff is that a Tuple is 'Immutable'. That is,\n",
    "a Tuple cannot be modified or changed after it has been created. And Tuples are created using '( )' \n",
    "instead of '[ ]'. We can access tuples but not add to it or try to change a member of the tuple after it's been created. \n",
    "Tuples are typically used when the data contained in them cannot change. Example of such data include something like city names, country name, etc."
   ]
  },
  {
   "cell_type": "code",
   "execution_count": 57,
   "id": "8c9fe705-bd88-4bce-8c12-732968f5c367",
   "metadata": {},
   "outputs": [],
   "source": [
    "## Creating a Tuple\n",
    "tuple_scoops = (1,2,3,2,1)"
   ]
  },
  {
   "cell_type": "code",
   "execution_count": 59,
   "id": "6cd2751e-9d2f-43dc-a0f2-2e7987fab190",
   "metadata": {},
   "outputs": [
    {
     "data": {
      "text/plain": [
       "tuple"
      ]
     },
     "execution_count": 59,
     "metadata": {},
     "output_type": "execute_result"
    }
   ],
   "source": [
    "type(tuple_scoops)"
   ]
  },
  {
   "cell_type": "code",
   "execution_count": 61,
   "id": "a1ab51c6-1cb6-453e-b3d6-e2b0c466691c",
   "metadata": {},
   "outputs": [
    {
     "data": {
      "text/plain": [
       "2"
      ]
     },
     "execution_count": 61,
     "metadata": {},
     "output_type": "execute_result"
    }
   ],
   "source": [
    "## Accessing a Tuple\n",
    "tuple_scoops[1]"
   ]
  },
  {
   "cell_type": "markdown",
   "id": "670eb261-3d48-4472-b495-88ee3f1f330e",
   "metadata": {},
   "source": [
    "#### Sets data type\n",
    "A set is somewhat similar to a list and tuple, but they are a diff in that they don't have any duplicate element. \n",
    "The members of a set cannot be repeated when using 'print' function; Only the distinct members will be printed, and they cannot be accessed using indexing because it doesn't have an index. It is an unordered list.\n",
    "We can loop through a set but cannot access the elements individually. Note that,\n",
    "Sets are created using '{ }'. A typical use case of sets is when comparing diff sets."
   ]
  },
  {
   "cell_type": "code",
   "execution_count": 76,
   "id": "89bcb22b-9366-4d02-a5ef-d0247fe2254d",
   "metadata": {},
   "outputs": [],
   "source": [
    "## Creating a set\n",
    "daily_pints = {1,2,3}"
   ]
  },
  {
   "cell_type": "code",
   "execution_count": 78,
   "id": "534ff8cb-a1a2-4940-9862-4b83057115e9",
   "metadata": {},
   "outputs": [
    {
     "data": {
      "text/plain": [
       "set"
      ]
     },
     "execution_count": 78,
     "metadata": {},
     "output_type": "execute_result"
    }
   ],
   "source": [
    "type(daily_pints)"
   ]
  },
  {
   "cell_type": "code",
   "execution_count": 84,
   "id": "6de6dd90-4add-46d9-af92-e0d82998bb90",
   "metadata": {},
   "outputs": [
    {
     "name": "stdout",
     "output_type": "stream",
     "text": [
      "{32, 1, 2, 3, 4, 13}\n"
     ]
    }
   ],
   "source": [
    "## Demonstrating that sets return only the distinct members of the set\n",
    "daily_pints_logs = {1,2,3,32,4,13,2,4,1,3}\n",
    "\n",
    "print(daily_pints_logs)"
   ]
  },
  {
   "cell_type": "code",
   "execution_count": 86,
   "id": "f26a1032-3429-47f7-bc5e-39c98c930b7a",
   "metadata": {},
   "outputs": [],
   "source": [
    "other_pints_logs = {1,2,43,54,7,9,0,4,23,81}"
   ]
  },
  {
   "cell_type": "code",
   "execution_count": 90,
   "id": "c9b912e8-4a09-412b-af52-7a01b3e72b4e",
   "metadata": {},
   "outputs": [
    {
     "name": "stdout",
     "output_type": "stream",
     "text": [
      "{0, 1, 2, 3, 4, 7, 9, 13, 81, 23, 32, 43, 54}\n"
     ]
    }
   ],
   "source": [
    "## Typical use case - Comparing two sets together\n",
    "## The '|' is used to combine two sets together and see their unique values.\n",
    "\n",
    "print(daily_pints_logs | other_pints_logs)"
   ]
  },
  {
   "cell_type": "code",
   "execution_count": 96,
   "id": "322b12e4-32e2-437b-aabc-0ec947cff306",
   "metadata": {},
   "outputs": [
    {
     "name": "stdout",
     "output_type": "stream",
     "text": [
      "{1, 2, 4}\n"
     ]
    }
   ],
   "source": [
    "## The '&' is used to see what matches, or what is common between two sets.\n",
    "\n",
    "print(daily_pints_logs & other_pints_logs)"
   ]
  },
  {
   "cell_type": "code",
   "execution_count": 102,
   "id": "5dbbf868-3668-4d27-8b8b-6c72b4e1878c",
   "metadata": {},
   "outputs": [
    {
     "name": "stdout",
     "output_type": "stream",
     "text": [
      "{32, 3, 13}\n"
     ]
    }
   ],
   "source": [
    "## The '-' is used to see what does not match, or what is uncommon between two sets.\n",
    "## Here, we are taking the values of the first set, in this case 'daily_pints_logs' set, and then\n",
    "## subtracting the 'other_pints_logs' set. We are printing what is in 'daily_pints_logs' that is not in\n",
    "## 'other_pints_logs' set.\n",
    "\n",
    "print(daily_pints_logs - other_pints_logs)"
   ]
  },
  {
   "cell_type": "code",
   "execution_count": 106,
   "id": "d3d71630-f312-44c9-9c95-c4885a8d7802",
   "metadata": {},
   "outputs": [
    {
     "name": "stdout",
     "output_type": "stream",
     "text": [
      "{0, 32, 3, 7, 9, 43, 13, 81, 54, 23}\n"
     ]
    }
   ],
   "source": [
    "## The '^' is used to show what value is either in one set or the other, but not in both sets. \n",
    "## That is, it shows values that are completely unique to each of the sets.\n",
    "\n",
    "print(daily_pints_logs ^ other_pints_logs)"
   ]
  },
  {
   "cell_type": "markdown",
   "id": "bec7928e-a4a4-41e3-a5a1-a8ab377f8ccf",
   "metadata": {},
   "source": [
    "#### Dictionary data type or Dictionaries\n",
    "Dictionaries are kind of similar to 'objects' in JavaScript in that they use 'Key/Value' pairs. \n",
    "It is created using '{ }' then the key/value pairs are places in it. Dictionaries can also house a list in it. \n",
    "Dictionaries are not accessed or called through indexing, rather using the keys. Dictionaries can also be modified."
   ]
  },
  {
   "cell_type": "code",
   "execution_count": 115,
   "id": "f0ee8033-086f-45f8-98d4-a6292f6bf0b2",
   "metadata": {},
   "outputs": [],
   "source": [
    "## Creating a Dictionary\n",
    "\n",
    "dict_cream = {'name': 'Pandora', 'weekly intake': 4, 'favorite creams': ['MCC', 'Vanilla','Chocolate']}"
   ]
  },
  {
   "cell_type": "code",
   "execution_count": 117,
   "id": "d71ea467-afb2-450d-b9a2-14224aa45b82",
   "metadata": {},
   "outputs": [
    {
     "data": {
      "text/plain": [
       "dict"
      ]
     },
     "execution_count": 117,
     "metadata": {},
     "output_type": "execute_result"
    }
   ],
   "source": [
    "type(dict_cream)"
   ]
  },
  {
   "cell_type": "code",
   "execution_count": 119,
   "id": "c67fa9e0-2c54-471d-8438-b0e68659e02b",
   "metadata": {},
   "outputs": [
    {
     "name": "stdout",
     "output_type": "stream",
     "text": [
      "{'name': 'Pandora', 'weekly intake': 4, 'favorite creams': ['MCC', 'Vanilla', 'Chocolate']}\n"
     ]
    }
   ],
   "source": [
    "print(dict_cream)"
   ]
  },
  {
   "cell_type": "code",
   "execution_count": 121,
   "id": "8e98a554-280f-4d6d-b1eb-553a388846de",
   "metadata": {},
   "outputs": [
    {
     "data": {
      "text/plain": [
       "dict_values(['Pandora', 4, ['MCC', 'Vanilla', 'Chocolate']])"
      ]
     },
     "execution_count": 121,
     "metadata": {},
     "output_type": "execute_result"
    }
   ],
   "source": [
    "## We can also decide that we only want to see the values of the dictionary, using 'values()'\n",
    "dict_cream.values()"
   ]
  },
  {
   "cell_type": "code",
   "execution_count": 123,
   "id": "a2708adf-7ce1-4726-bae7-36078a4ee1da",
   "metadata": {},
   "outputs": [
    {
     "data": {
      "text/plain": [
       "dict_keys(['name', 'weekly intake', 'favorite creams'])"
      ]
     },
     "execution_count": 123,
     "metadata": {},
     "output_type": "execute_result"
    }
   ],
   "source": [
    "## We can also decide that we only want to see the keys of the dictionary, using 'keys()'\n",
    "dict_cream.keys()"
   ]
  },
  {
   "cell_type": "code",
   "execution_count": 125,
   "id": "ecdc79e2-cfbe-4c70-8f21-df99487ff435",
   "metadata": {},
   "outputs": [
    {
     "data": {
      "text/plain": [
       "dict_items([('name', 'Pandora'), ('weekly intake', 4), ('favorite creams', ['MCC', 'Vanilla', 'Chocolate'])])"
      ]
     },
     "execution_count": 125,
     "metadata": {},
     "output_type": "execute_result"
    }
   ],
   "source": [
    "## We can also decide that we only want to see the dictionary as a pair(key/value pair), using 'items()'\n",
    "dict_cream.items()"
   ]
  },
  {
   "cell_type": "code",
   "execution_count": 128,
   "id": "b0f660fb-c63d-4f08-b29e-cb85e5b88823",
   "metadata": {},
   "outputs": [
    {
     "data": {
      "text/plain": [
       "'Pandora'"
      ]
     },
     "execution_count": 128,
     "metadata": {},
     "output_type": "execute_result"
    }
   ],
   "source": [
    "## Accessing/calling a dictionary element\n",
    "dict_cream['name']"
   ]
  },
  {
   "cell_type": "code",
   "execution_count": 135,
   "id": "d5ce5269-1c81-4577-85bc-2958eea2d53f",
   "metadata": {},
   "outputs": [
    {
     "name": "stdout",
     "output_type": "stream",
     "text": [
      "{'name': 'Tris', 'weekly intake': 4, 'favorite creams': ['MCC', 'Vanilla', 'Chocolate']}\n"
     ]
    }
   ],
   "source": [
    "## Modifying a dictionary element\n",
    "dict_cream['name'] = 'Tris'\n",
    "\n",
    "print(dict_cream)"
   ]
  },
  {
   "cell_type": "code",
   "execution_count": 139,
   "id": "ef2ff791-955d-4cda-862c-b60d02a9ec6d",
   "metadata": {},
   "outputs": [
    {
     "name": "stdout",
     "output_type": "stream",
     "text": [
      "{'name': 'Tris', 'weekly intake': 5, 'favorite creams': ['MCC', 'Vanilla', 'Chocolate'], 'weight': 250}\n"
     ]
    }
   ],
   "source": [
    "## Updating all the elements (either the keys or the values) of a dictionary at a go, using 'update()'\n",
    "## No matter what change you make to the dictionary, you can't delete a member of a dict using 'update()'.\n",
    "dict_cream.update({'name': 'Tris', 'weekly intake': 5, 'weight': 250})\n",
    "\n",
    "print(dict_cream)"
   ]
  },
  {
   "cell_type": "code",
   "execution_count": 141,
   "id": "732649e4-c720-43e4-beb4-091685c89438",
   "metadata": {},
   "outputs": [
    {
     "name": "stdout",
     "output_type": "stream",
     "text": [
      "{'name': 'Tris', 'weekly intake': 5, 'favorite creams': ['MCC', 'Vanilla', 'Chocolate']}\n"
     ]
    }
   ],
   "source": [
    "## Deleting elements of a dict using 'del' keyword\n",
    "del dict_cream['weight']\n",
    "print(dict_cream)"
   ]
  },
  {
   "cell_type": "code",
   "execution_count": null,
   "id": "bfcdd738-3bff-473f-998a-44c80e4fcfbd",
   "metadata": {},
   "outputs": [],
   "source": []
  },
  {
   "cell_type": "code",
   "execution_count": null,
   "id": "2c805a9b-a845-46d5-a90d-c9ee55adf7b2",
   "metadata": {},
   "outputs": [],
   "source": []
  }
 ],
 "metadata": {
  "kernelspec": {
   "display_name": "Python [conda env:venv]",
   "language": "python",
   "name": "conda-env-venv-py"
  },
  "language_info": {
   "codemirror_mode": {
    "name": "ipython",
    "version": 3
   },
   "file_extension": ".py",
   "mimetype": "text/x-python",
   "name": "python",
   "nbconvert_exporter": "python",
   "pygments_lexer": "ipython3",
   "version": "3.12.0"
  }
 },
 "nbformat": 4,
 "nbformat_minor": 5
}
