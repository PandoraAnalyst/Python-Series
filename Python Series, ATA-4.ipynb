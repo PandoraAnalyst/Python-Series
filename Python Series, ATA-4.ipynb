{
 "cells": [
  {
   "cell_type": "markdown",
   "id": "cfca2161-b285-48ee-9985-217772c7e7df",
   "metadata": {},
   "source": [
    "# Python Series, ATA-4."
   ]
  },
  {
   "cell_type": "markdown",
   "id": "6b53cf21-5bf5-4d5f-ac4e-dc902ce17ef8",
   "metadata": {},
   "source": [
    "## 7. Functions.\n",
    "A 'Function' is a block of code which is only run when u call it. Functions are defined using the 'def' keyword, followed by the function name and then a ( ). To call a function, we write the name and add the ( ), like so: myFunction( )."
   ]
  },
  {
   "cell_type": "code",
   "execution_count": 4,
   "id": "24e82f9c-77d5-496f-abc1-0a9e9c0342ea",
   "metadata": {},
   "outputs": [],
   "source": [
    "## Defining a function\n",
    "\n",
    "def first_func():\n",
    "    print('the first function')"
   ]
  },
  {
   "cell_type": "code",
   "execution_count": 6,
   "id": "ecb315ba-4121-4e9c-ae72-e6b53cc0bfe8",
   "metadata": {},
   "outputs": [
    {
     "name": "stdout",
     "output_type": "stream",
     "text": [
      "the first function\n"
     ]
    }
   ],
   "source": [
    "## Calling a function\n",
    "\n",
    "first_func()"
   ]
  },
  {
   "cell_type": "code",
   "execution_count": 12,
   "id": "64cc595f-da7c-49ad-ad61-bbb127c875ab",
   "metadata": {},
   "outputs": [],
   "source": [
    "## Functions with an argument\n",
    "\n",
    "def number_squared(number):\n",
    "    print(number ** 2)"
   ]
  },
  {
   "cell_type": "code",
   "execution_count": 10,
   "id": "cd276c9f-b362-4030-97cc-a55deafbd5b1",
   "metadata": {},
   "outputs": [
    {
     "name": "stdout",
     "output_type": "stream",
     "text": [
      "4\n"
     ]
    }
   ],
   "source": [
    "number_squared(2)"
   ]
  },
  {
   "cell_type": "code",
   "execution_count": 18,
   "id": "ed4d1c5f-4dba-42ff-99d6-114adeb2df2c",
   "metadata": {},
   "outputs": [],
   "source": [
    "## Functions with multiple arguments and custom input\n",
    "\n",
    "def number_squared_custom(number, power):\n",
    "    print(number ** power)\n",
    "\n",
    "## This function will allow us to set our number and also the power we want to raise it to"
   ]
  },
  {
   "cell_type": "code",
   "execution_count": 20,
   "id": "b01850ce-06d6-4ef7-b085-132547fc1fb9",
   "metadata": {},
   "outputs": [
    {
     "name": "stdout",
     "output_type": "stream",
     "text": [
      "125\n"
     ]
    }
   ],
   "source": [
    "number_squared_custom(5,3)"
   ]
  },
  {
   "cell_type": "code",
   "execution_count": 22,
   "id": "2ebb0df0-1a10-4b28-8b58-f75d99f0271c",
   "metadata": {},
   "outputs": [],
   "source": [
    "## Functions with Arbitary arguments\n",
    "## Arbitary arguments (denoted by '* + arg_name') are used when you don't know how many args u need to pass to the function, \n",
    "## you can specify that later when you are calling the function.\n",
    "\n",
    "def number_args(*number):\n",
    "    print(number[0] * number[1])\n",
    "\n",
    "## Because we don't know how many args we are expecting in advance, this 'print(number[0] * number[1])' will multiply\n",
    "## the number in the 0 index and the one in the 1 index."
   ]
  },
  {
   "cell_type": "code",
   "execution_count": 28,
   "id": "6150804b-76be-4c2c-9ebf-720aff72c0e5",
   "metadata": {},
   "outputs": [
    {
     "name": "stdout",
     "output_type": "stream",
     "text": [
      "6\n"
     ]
    }
   ],
   "source": [
    "number_args(2,3,5,6,8)\n",
    "\n",
    "## Here, no 2 is at 0 index and 3 at 1 index, therefore, 2 and 3 are multiplied to give 6."
   ]
  },
  {
   "cell_type": "code",
   "execution_count": 32,
   "id": "896aa48e-7f90-48de-be81-0562c7c4f09f",
   "metadata": {},
   "outputs": [
    {
     "name": "stdout",
     "output_type": "stream",
     "text": [
      "6\n"
     ]
    }
   ],
   "source": [
    "## Example - Passing a tuple as our argument to the Arbitary function above\n",
    "args_tuple = (2,3,5,6,8)\n",
    "\n",
    "number_args(*args_tuple)\n",
    "\n",
    "## when passing a tuple into our arbitary func, we need to add a leading * before the tuple name. \n",
    "## This way, the code won't break."
   ]
  },
  {
   "cell_type": "markdown",
   "id": "f09b3d76-7ec3-4f0f-b56a-af591f598419",
   "metadata": {},
   "source": []
  },
  {
   "cell_type": "markdown",
   "id": "87206d95-c92f-49e4-b1f0-18fd0d718711",
   "metadata": {},
   "source": [
    "#### Keyword Arguments and Arbitary Keyword Arguments\n",
    "Keyword Arguments are used to have more control over hoe the arguments of a function are assigned.\n",
    "Arbitary Keyword arguments are similar keyword argument, the diff is that it's written as an Arbitary function using two leading '**'."
   ]
  },
  {
   "cell_type": "code",
   "execution_count": 36,
   "id": "72d01857-39ea-4203-b08d-6849dda39278",
   "metadata": {},
   "outputs": [],
   "source": [
    "## Keyword Arguments\n",
    "\n",
    "def number_squared_custom(number, power):\n",
    "    print(number ** power)"
   ]
  },
  {
   "cell_type": "code",
   "execution_count": 40,
   "id": "1e4cb76b-9189-47be-8a3e-5ee32fc03b98",
   "metadata": {},
   "outputs": [
    {
     "name": "stdout",
     "output_type": "stream",
     "text": [
      "243\n"
     ]
    }
   ],
   "source": [
    "number_squared_custom(power = 5, number = 3)\n",
    "\n",
    "## Here, without specify 'power = ' and 'number = ', 3 would've been automatically assigned to 'number' arg, and 5 to 'power' arg."
   ]
  },
  {
   "cell_type": "code",
   "execution_count": 52,
   "id": "4a9d2403-c929-4349-8d1b-048e375f4352",
   "metadata": {},
   "outputs": [],
   "source": [
    "## Arbitary Keyword Arguments\n",
    "\n",
    "def number_kwarg(**number):\n",
    "    print('My number is: ' + number['integer'] + ' My other number is: ' + number['integer2'])"
   ]
  },
  {
   "cell_type": "code",
   "execution_count": 54,
   "id": "bfef215d-76ae-4fd0-924d-d024ab947951",
   "metadata": {},
   "outputs": [
    {
     "name": "stdout",
     "output_type": "stream",
     "text": [
      "My number is: 3034 My other number is: 9392\n"
     ]
    }
   ],
   "source": [
    "number_kwarg(integer = '3034', integer2 = '9392')\n",
    "\n",
    "## We can pass in as many keywords ('integer') as are necessary for this function"
   ]
  },
  {
   "cell_type": "markdown",
   "id": "3d01aeab-baf4-40f3-96a8-6fd949cc45c4",
   "metadata": {},
   "source": []
  },
  {
   "cell_type": "markdown",
   "id": "1a4f7555-47e6-4485-8bf1-9f553391b2bd",
   "metadata": {},
   "source": [
    "## 8. Converting Data Types.\n"
   ]
  },
  {
   "cell_type": "code",
   "execution_count": 62,
   "id": "5dd870b8-d9bb-4bbd-a972-e30cddd06d95",
   "metadata": {},
   "outputs": [
    {
     "data": {
      "text/plain": [
       "int"
      ]
     },
     "execution_count": 62,
     "metadata": {},
     "output_type": "execute_result"
    }
   ],
   "source": [
    "## Converting String to Integer\n",
    "\n",
    "num_str = '8'\n",
    "\n",
    "## converting\n",
    "\n",
    "num_str_converted = int(num_str)\n",
    "type(num_str_converted)"
   ]
  },
  {
   "cell_type": "code",
   "execution_count": 66,
   "id": "38bfd785-5f98-4b43-b5bf-84719106f895",
   "metadata": {},
   "outputs": [
    {
     "data": {
      "text/plain": [
       "tuple"
      ]
     },
     "execution_count": 66,
     "metadata": {},
     "output_type": "execute_result"
    }
   ],
   "source": [
    "## Converting List to Tuple\n",
    "\n",
    "num_list = [1,2,3,4,5]\n",
    "\n",
    "## converting\n",
    "\n",
    "num_list_converted = tuple(num_list)\n",
    "type(num_list_converted)"
   ]
  },
  {
   "cell_type": "code",
   "execution_count": 80,
   "id": "255a04b5-99bf-4d07-9df8-78f11a40e5ef",
   "metadata": {},
   "outputs": [
    {
     "name": "stdout",
     "output_type": "stream",
     "text": [
      "{1, 2, 3, 4, 5, 6, 78, 23}\n"
     ]
    },
    {
     "data": {
      "text/plain": [
       "set"
      ]
     },
     "execution_count": 80,
     "metadata": {},
     "output_type": "execute_result"
    }
   ],
   "source": [
    "## Converting List to Set\n",
    "## We can convert a list to a set, but it may change the actual values within it.\n",
    "\n",
    "num_list2 = [1,23,4,5,6,1,3,4,2,3,23,5,78]\n",
    "\n",
    "## converting\n",
    "\n",
    "num_list2_converted = set(num_list2)\n",
    "print(num_list2_converted)\n",
    "type(num_list2_converted)"
   ]
  },
  {
   "cell_type": "code",
   "execution_count": 90,
   "id": "5d9c1417-0b12-47cc-a64d-25959cf47299",
   "metadata": {},
   "outputs": [
    {
     "data": {
      "text/plain": [
       "list"
      ]
     },
     "execution_count": 90,
     "metadata": {},
     "output_type": "execute_result"
    }
   ],
   "source": [
    "## Converting a dictionary to a list\n",
    "\n",
    "person_dict = {'name': 'Pandora', 'age': 26, 'Hair': 'N/A'}\n",
    "\n",
    "## Converting the dictionary keys to a list\n",
    "\n",
    "dict_keys = list(person_dict.keys())\n",
    "type(dict_keys)"
   ]
  },
  {
   "cell_type": "code",
   "execution_count": 92,
   "id": "01629e66-cd3e-475e-a3c7-6f930406db33",
   "metadata": {},
   "outputs": [
    {
     "data": {
      "text/plain": [
       "list"
      ]
     },
     "execution_count": 92,
     "metadata": {},
     "output_type": "execute_result"
    }
   ],
   "source": [
    "## Converting the dictionary values to a list\n",
    "\n",
    "dict_keys = list(person_dict.values())\n",
    "type(dict_keys)"
   ]
  },
  {
   "cell_type": "code",
   "execution_count": 96,
   "id": "f46b8765-3824-45ff-aebd-a2e6e48a0ba9",
   "metadata": {},
   "outputs": [
    {
     "name": "stdout",
     "output_type": "stream",
     "text": [
      "['I', ' ', 'l', 'o', 'v', 'e', ' ', 'l', 'i', 's', 't', 'e', 'n', 'i', 'n', 'g', ' ', 't', 'o', ' ', 'm', 'u', 's', 'i', 'c']\n"
     ]
    }
   ],
   "source": [
    "## Converting a long string to a list. This basically splits the string into single characters.\n",
    "\n",
    "long_str = 'I love listening to music'\n",
    "\n",
    "long_str_converted = list(long_str)\n",
    "print(long_str_converted)"
   ]
  },
  {
   "cell_type": "code",
   "execution_count": 98,
   "id": "ba3bdefa-588b-4e17-bf8d-c7f3c6319012",
   "metadata": {},
   "outputs": [
    {
     "name": "stdout",
     "output_type": "stream",
     "text": [
      "{'m', 'e', 'i', 'g', 'u', ' ', 's', 't', 'l', 'n', 'c', 'v', 'I', 'o'}\n"
     ]
    }
   ],
   "source": [
    "## Converting a long string to a set. This basically splits the string into single distinct characters.\n",
    "\n",
    "long_str2 = 'I love listening to music'\n",
    "\n",
    "long_str_converted2 = set(long_str2)\n",
    "print(long_str_converted2)"
   ]
  },
  {
   "cell_type": "code",
   "execution_count": null,
   "id": "f57d0f20-3453-422f-aa07-4befc8d1614d",
   "metadata": {},
   "outputs": [],
   "source": []
  }
 ],
 "metadata": {
  "kernelspec": {
   "display_name": "Python [conda env:venv]",
   "language": "python",
   "name": "conda-env-venv-py"
  },
  "language_info": {
   "codemirror_mode": {
    "name": "ipython",
    "version": 3
   },
   "file_extension": ".py",
   "mimetype": "text/x-python",
   "name": "python",
   "nbconvert_exporter": "python",
   "pygments_lexer": "ipython3",
   "version": "3.12.0"
  }
 },
 "nbformat": 4,
 "nbformat_minor": 5
}
